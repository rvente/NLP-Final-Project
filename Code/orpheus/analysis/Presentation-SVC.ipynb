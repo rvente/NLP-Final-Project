{
 "cells": [
  {
   "cell_type": "code",
   "execution_count": 1,
   "metadata": {},
   "outputs": [
    {
     "data": {
      "text/plain": [
       "FileSystemExperimentLoader(\"../logs\")"
      ]
     },
     "execution_count": 1,
     "metadata": {},
     "output_type": "execute_result"
    }
   ],
   "source": [
    "import sys\n",
    "sys.path.append('.')\n",
    "from datetime import datetime\n",
    "import numpy as np\n",
    "import pandas as pd\n",
    "import incense\n",
    "from incense import ExperimentLoader\n",
    "from pathlib import Path\n",
    "from incense.experiment_loader import FileSystemExperimentLoader\n",
    "\n",
    "\n",
    "basedir = Path(\"../logs/\")\n",
    "loader = FileSystemExperimentLoader(basedir)\n",
    "loader"
   ]
  },
  {
   "cell_type": "code",
   "execution_count": 2,
   "metadata": {},
   "outputs": [
    {
     "name": "stdout",
     "output_type": "stream",
     "text": [
      "{'review_contents': [0, 0, 0, 0, 0, 0, 0, 0, 0, 0, 0], 'pos_tags': [0, 0, 0, 0, 0, 0, 0, 0, 0, 0, 0], 'path_pos_bigrams': [0, 0, 0, 0, 0, 0, 0, 0, 0, 0, 0], 'nested_pos_bigrams': [0, 0, 0, 0, 0, 0, 0, 0, 0, 0, 0]}\n",
      "{'review_contents': [0, 0, 0, 0, 0, 0, 0, 0, 0, 0, 0], 'pos_tags': [0, 0, 0, 0, 0, 0, 0, 0, 0, 0, 0], 'path_pos_bigrams': [0, 0, 0, 0, 0, 0, 0, 0, 0, 0, 0], 'nested_pos_bigrams': [0, 0, 0, 0, 0, 0, 0, 0, 0, 0, 0]}\n"
     ]
    }
   ],
   "source": [
    "ind = [.001, .003, .005, .01, .03, .05, .07, .08, .085 , .095, .1]\n",
    "col = ['review_contents', 'pos_tags', 'nested_pos_bigrams', 'path_pos_bigrams']\n",
    "acctable = {'review_contents': [], 'pos_tags': [], 'path_pos_bigrams': []}\n",
    "for x in col:\n",
    "    l = []\n",
    "    for y in ind:\n",
    "        l.append(0)\n",
    "    acctable[x] = l\n",
    "f1table = {'review_contents': [], 'pos_tags': [], 'path_pos_bigrams': []}\n",
    "for x in col:\n",
    "    l = []\n",
    "    for y in ind:\n",
    "        l.append(0)\n",
    "    f1table[x] = l\n",
    "print(acctable)\n",
    "print(f1table)"
   ]
  },
  {
   "cell_type": "code",
   "execution_count": 3,
   "metadata": {
    "scrolled": true
   },
   "outputs": [
    {
     "name": "stdout",
     "output_type": "stream",
     "text": [
      "svc__min_df_0.001_review_contents\n",
      "svc__min_df_0.003_review_contents\n",
      "svc__min_df_0.005_review_contents\n",
      "svc__min_df_0.01_review_contents\n",
      "svc__min_df_0.03_review_contents\n",
      "svc__min_df_0.05_review_contents\n",
      "svc__min_df_0.07_review_contents\n",
      "svc__min_df_0.1_review_contents\n",
      "MultiNomNB__min_df_0.001_review_contents\n",
      "MultiNomNB__min_df_0.003_review_contents\n",
      "MultiNomNB__min_df_0.005_review_contents\n",
      "MultiNomNB__min_df_0.01_review_contents\n",
      "MultiNomNB__min_df_0.03_review_contents\n",
      "MultiNomNB__min_df_0.05_review_contents\n",
      "MultiNomNB__min_df_0.07_review_contents\n",
      "MultiNomNB__min_df_0.1_review_contents\n",
      "svc__min_df_0.001_pos_tags\n",
      "svc__min_df_0.003_pos_tags\n",
      "svc__min_df_0.005_pos_tags\n",
      "svc__min_df_0.01_pos_tags\n",
      "svc__min_df_0.03_pos_tags\n",
      "svc__min_df_0.05_pos_tags\n",
      "svc__min_df_0.07_pos_tags\n",
      "svc__min_df_0.1_pos_tags\n",
      "MultiNomNB__min_df_0.001_pos_tags\n",
      "MultiNomNB__min_df_0.003_pos_tags\n",
      "MultiNomNB__min_df_0.005_pos_tags\n",
      "MultiNomNB__min_df_0.01_pos_tags\n",
      "MultiNomNB__min_df_0.03_pos_tags\n",
      "MultiNomNB__min_df_0.05_pos_tags\n",
      "MultiNomNB__min_df_0.07_pos_tags\n",
      "MultiNomNB__min_df_0.1_pos_tags\n",
      "svc__min_df_0.001_nested_pos_bigrams\n",
      "svc__min_df_0.003_nested_pos_bigrams\n",
      "svc__min_df_0.005_nested_pos_bigrams\n",
      "svc__min_df_0.01_nested_pos_bigrams\n",
      "svc__min_df_0.03_nested_pos_bigrams\n",
      "svc__min_df_0.05_nested_pos_bigrams\n",
      "svc__min_df_0.07_nested_pos_bigrams\n",
      "svc__min_df_0.1_nested_pos_bigrams\n",
      "MultiNomNB__min_df_0.001_nested_pos_bigrams\n",
      "MultiNomNB__min_df_0.003_nested_pos_bigrams\n",
      "MultiNomNB__min_df_0.005_nested_pos_bigrams\n",
      "MultiNomNB__min_df_0.01_nested_pos_bigrams\n",
      "MultiNomNB__min_df_0.03_nested_pos_bigrams\n",
      "MultiNomNB__min_df_0.05_nested_pos_bigrams\n",
      "MultiNomNB__min_df_0.07_nested_pos_bigrams\n",
      "MultiNomNB__min_df_0.1_nested_pos_bigrams\n",
      "svc__min_df_0.001_path_pos_bigrams\n",
      "svc__min_df_0.003_path_pos_bigrams\n",
      "svc__min_df_0.005_path_pos_bigrams\n",
      "svc__min_df_0.01_path_pos_bigrams\n",
      "svc__min_df_0.03_path_pos_bigrams\n",
      "svc__min_df_0.05_path_pos_bigrams\n",
      "svc__min_df_0.07_path_pos_bigrams\n",
      "svc__min_df_0.1_path_pos_bigrams\n",
      "MultiNomNB__min_df_0.001_path_pos_bigrams\n",
      "MultiNomNB__min_df_0.003_path_pos_bigrams\n",
      "MultiNomNB__min_df_0.005_path_pos_bigrams\n",
      "MultiNomNB__min_df_0.01_path_pos_bigrams\n",
      "MultiNomNB__min_df_0.03_path_pos_bigrams\n",
      "MultiNomNB__min_df_0.05_path_pos_bigrams\n",
      "MultiNomNB__min_df_0.07_path_pos_bigrams\n",
      "MultiNomNB__min_df_0.1_path_pos_bigrams\n",
      "svc__min_df_0.08_review_contents\n",
      "svc__min_df_0.085_review_contents\n",
      "svc__min_df_0.095_review_contents\n",
      "MultiNomNB__min_df_0.08_review_contents\n",
      "MultiNomNB__min_df_0.085_review_contents\n",
      "MultiNomNB__min_df_0.095_review_contents\n",
      "svc__min_df_0.08_pos_tags\n",
      "svc__min_df_0.085_pos_tags\n",
      "svc__min_df_0.095_pos_tags\n",
      "MultiNomNB__min_df_0.08_pos_tags\n",
      "MultiNomNB__min_df_0.085_pos_tags\n",
      "MultiNomNB__min_df_0.095_pos_tags\n",
      "svc__min_df_0.08_nested_pos_bigrams\n",
      "svc__min_df_0.085_nested_pos_bigrams\n",
      "svc__min_df_0.095_nested_pos_bigrams\n",
      "MultiNomNB__min_df_0.08_nested_pos_bigrams\n",
      "MultiNomNB__min_df_0.085_nested_pos_bigrams\n",
      "MultiNomNB__min_df_0.095_nested_pos_bigrams\n",
      "svc__min_df_0.08_path_pos_bigrams\n",
      "svc__min_df_0.085_path_pos_bigrams\n",
      "svc__min_df_0.095_path_pos_bigrams\n",
      "MultiNomNB__min_df_0.08_path_pos_bigrams\n",
      "MultiNomNB__min_df_0.085_path_pos_bigrams\n",
      "MultiNomNB__min_df_0.095_path_pos_bigrams\n"
     ]
    }
   ],
   "source": [
    "start = 468\n",
    "end = 555\n",
    "for i in range(start,end+1):\n",
    "    exp = loader.find_by_id(start)\n",
    "    start += 1\n",
    "    #can change to svc or MultiNomNB\n",
    "    if exp.config.name.startswith('svc'):\n",
    "        for i in range(len(col)):\n",
    "            if exp.config.name.endswith(col[i]):\n",
    "                for j in range(len(ind)):\n",
    "                    if str(ind[j]) in exp.config.name:\n",
    "                        if acctable[col[i]][j] < exp.result.value:\n",
    "                            acctable[col[i]][j] = exp.result.value\n",
    "                        if f1table[col[i]][j] < float(exp.metrics['test.f1_score']):\n",
    "                            f1table[col[i]][j] = float(exp.metrics['test.f1_score'])\n",
    "    print(exp.config.name)"
   ]
  },
  {
   "cell_type": "code",
   "execution_count": 4,
   "metadata": {},
   "outputs": [
    {
     "name": "stdout",
     "output_type": "stream",
     "text": [
      "       review_contents  pos_tags  nested_pos_bigrams  path_pos_bigrams\n",
      "0.001         0.876000  0.722000            0.751333          0.771333\n",
      "0.003         0.866667  0.724667            0.752000          0.774000\n",
      "0.005         0.856667  0.727333            0.744667          0.771333\n",
      "0.010         0.850667  0.701333            0.745333          0.760667\n",
      "0.030         0.810000  0.712000            0.740667          0.749333\n",
      "0.050         0.790000  0.686667            0.734667          0.744667\n",
      "0.070         0.760667  0.680667            0.721333          0.737333\n",
      "0.080         0.746000  0.674667            0.718667          0.734000\n",
      "0.085         0.736667  0.668667            0.718667          0.724000\n",
      "0.095         0.726667  0.640667            0.707333          0.738000\n",
      "0.100         0.721333  0.657333            0.709333          0.731333\n"
     ]
    }
   ],
   "source": [
    "df = pd.DataFrame(acctable, columns = col, index = ind)\n",
    "print(df)"
   ]
  },
  {
   "cell_type": "code",
   "execution_count": 5,
   "metadata": {},
   "outputs": [],
   "source": [
    "try:\n",
    "    df.to_pickle('svc_df_acc.pkl')\n",
    "except Exception as e:\n",
    "    print(e)"
   ]
  },
  {
   "cell_type": "code",
   "execution_count": 6,
   "metadata": {},
   "outputs": [
    {
     "name": "stdout",
     "output_type": "stream",
     "text": [
      "       review_contents  pos_tags  nested_pos_bigrams  path_pos_bigrams\n",
      "0.001         0.872824  0.710891            0.738456          0.762075\n",
      "0.003         0.863190  0.714670            0.739721          0.764087\n",
      "0.005         0.852490  0.717993            0.732858          0.762157\n",
      "0.010         0.846692  0.693109            0.731916          0.750050\n",
      "0.030         0.803349  0.700706            0.729600          0.738377\n",
      "0.050         0.783410  0.676546            0.722962          0.737109\n",
      "0.070         0.753326  0.674140            0.707975          0.729139\n",
      "0.080         0.738145  0.666377            0.707944          0.721966\n",
      "0.085         0.729040  0.657317            0.707944          0.712376\n",
      "0.095         0.717336  0.628056            0.693120          0.728662\n",
      "0.100         0.712090  0.642730            0.694175          0.719484\n"
     ]
    }
   ],
   "source": [
    "f1df = pd.DataFrame(f1table, columns = col, index = ind)\n",
    "print(f1df)"
   ]
  },
  {
   "cell_type": "code",
   "execution_count": 7,
   "metadata": {},
   "outputs": [],
   "source": [
    "try:\n",
    "    f1df.to_pickle('svc_df_f1.pkl')\n",
    "except Exception as e:\n",
    "    print(e)"
   ]
  },
  {
   "cell_type": "code",
   "execution_count": null,
   "metadata": {},
   "outputs": [],
   "source": []
  },
  {
   "cell_type": "code",
   "execution_count": null,
   "metadata": {},
   "outputs": [],
   "source": []
  },
  {
   "cell_type": "code",
   "execution_count": null,
   "metadata": {},
   "outputs": [],
   "source": []
  },
  {
   "cell_type": "code",
   "execution_count": null,
   "metadata": {},
   "outputs": [],
   "source": []
  }
 ],
 "metadata": {
  "kernelspec": {
   "display_name": "Python 3",
   "language": "python",
   "name": "python3"
  },
  "language_info": {
   "codemirror_mode": {
    "name": "ipython",
    "version": 3
   },
   "file_extension": ".py",
   "mimetype": "text/x-python",
   "name": "python",
   "nbconvert_exporter": "python",
   "pygments_lexer": "ipython3",
   "version": "3.7.9"
  }
 },
 "nbformat": 4,
 "nbformat_minor": 4
}
