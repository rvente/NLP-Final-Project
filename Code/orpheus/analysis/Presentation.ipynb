{
 "cells": [
  {
   "cell_type": "code",
   "execution_count": 1,
   "metadata": {},
   "outputs": [
    {
     "data": {
      "text/plain": [
       "FileSystemExperimentLoader(\"../logs\")"
      ]
     },
     "execution_count": 1,
     "metadata": {},
     "output_type": "execute_result"
    }
   ],
   "source": [
    "import sys\n",
    "sys.path.append('.')\n",
    "from datetime import datetime\n",
    "import numpy as np\n",
    "import pandas as pd\n",
    "import incense\n",
    "from incense import ExperimentLoader\n",
    "from pathlib import Path\n",
    "from incense.experiment_loader import FileSystemExperimentLoader\n",
    "\n",
    "\n",
    "basedir = Path(\"../logs/\")\n",
    "loader = FileSystemExperimentLoader(basedir)\n",
    "loader"
   ]
  },
  {
   "cell_type": "code",
   "execution_count": 2,
   "metadata": {},
   "outputs": [
    {
     "name": "stdout",
     "output_type": "stream",
     "text": [
      "{'review_contents': [0, 0, 0, 0, 0], 'pos_tags': [0, 0, 0, 0, 0], 'path_pos_bigrams': [0, 0, 0, 0, 0]}\n",
      "{'review_contents': [0, 0, 0, 0, 0], 'pos_tags': [0, 0, 0, 0, 0], 'path_pos_bigrams': [0, 0, 0, 0, 0]}\n"
     ]
    }
   ],
   "source": [
    "ind = [.001, .003, .005, .01, .1]\n",
    "col = ['review_contents', 'pos_tags', 'path_pos_bigrams']\n",
    "\n",
    "acctable = {'review_contents': [], 'pos_tags': [], 'path_pos_bigrams': []}\n",
    "for x in col:\n",
    "    l = []\n",
    "    for y in ind:\n",
    "        l.append(0)\n",
    "    acctable[x] = l\n",
    "f1table = {'review_contents': [], 'pos_tags': [], 'path_pos_bigrams': []}\n",
    "for x in col:\n",
    "    l = []\n",
    "    for y in ind:\n",
    "        l.append(0)\n",
    "    f1table[x] = l\n",
    "print(acctable)\n",
    "print(f1table)"
   ]
  },
  {
   "cell_type": "code",
   "execution_count": 3,
   "metadata": {
    "scrolled": true
   },
   "outputs": [],
   "source": [
    "start = 418\n",
    "end = 467\n",
    "for i in range(start,end):\n",
    "    exp = loader.find_by_id(start)\n",
    "    start += 1\n",
    "    if exp.config.name.startswith('svc'):\n",
    "        for i in range(len(col)):\n",
    "            if exp.config.name.endswith(col[i]):\n",
    "                for j in range(len(ind)):\n",
    "                    if str(ind[j]) in exp.config.name:\n",
    "                        if acctable[col[i]][j] < exp.result.value:\n",
    "                            acctable[col[i]][j] = exp.result.value\n",
    "                        if f1table[col[i]][j] < float(exp.metrics['test.f1_score']):\n",
    "                            f1table[col[i]][j] = float(exp.metrics['test.f1_score'])"
   ]
  },
  {
   "cell_type": "code",
   "execution_count": 4,
   "metadata": {},
   "outputs": [
    {
     "name": "stdout",
     "output_type": "stream",
     "text": [
      "       review_contents  pos_tags  path_pos_bigrams\n",
      "0.001         0.875333  0.717333          0.770667\n",
      "0.003         0.865333  0.718667          0.774000\n",
      "0.005         0.856667  0.715333          0.771333\n",
      "0.010         0.852000  0.709333          0.766667\n",
      "0.100         0.717333  0.669333          0.734667\n"
     ]
    }
   ],
   "source": [
    "df = pd.DataFrame(acctable, columns = col, index = ind)\n",
    "print(df)"
   ]
  },
  {
   "cell_type": "code",
   "execution_count": 5,
   "metadata": {},
   "outputs": [],
   "source": [
    "try:\n",
    "    df.to_pickle('acctable.pkl')\n",
    "except Exception as e:\n",
    "    print(e)"
   ]
  },
  {
   "cell_type": "code",
   "execution_count": 6,
   "metadata": {},
   "outputs": [
    {
     "name": "stdout",
     "output_type": "stream",
     "text": [
      "       review_contents  pos_tags  path_pos_bigrams\n",
      "0.001         0.872174  0.712395          0.761566\n",
      "0.003         0.861466  0.707741          0.765108\n",
      "0.005         0.852348  0.702811          0.761705\n",
      "0.010         0.847729  0.701074          0.757694\n",
      "0.100         0.708675  0.654827          0.727349\n"
     ]
    }
   ],
   "source": [
    "f1df = pd.DataFrame(f1table, columns = col, index = ind)\n",
    "print(f1df)"
   ]
  },
  {
   "cell_type": "code",
   "execution_count": 7,
   "metadata": {},
   "outputs": [],
   "source": [
    "try:\n",
    "    f1df.to_pickle('f1table.pkl')\n",
    "except Exception as e:\n",
    "    print(e)"
   ]
  },
  {
   "cell_type": "code",
   "execution_count": null,
   "metadata": {},
   "outputs": [],
   "source": []
  }
 ],
 "metadata": {
  "kernelspec": {
   "display_name": "Python 3",
   "language": "python",
   "name": "python3"
  },
  "language_info": {
   "codemirror_mode": {
    "name": "ipython",
    "version": 3
   },
   "file_extension": ".py",
   "mimetype": "text/x-python",
   "name": "python",
   "nbconvert_exporter": "python",
   "pygments_lexer": "ipython3",
   "version": "3.7.9"
  }
 },
 "nbformat": 4,
 "nbformat_minor": 4
}
