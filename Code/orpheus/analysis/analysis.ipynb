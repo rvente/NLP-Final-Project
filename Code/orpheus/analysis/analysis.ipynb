{
 "cells": [
  {
   "cell_type": "markdown",
   "metadata": {},
   "source": [
    "# Analysis \n",
    "\n",
    "THis was created by installing the development version of incense git+https://github.com/JarnoRFB/incense.git at 4236128faae866b6bb7a5a32f0914812895b024e"
   ]
  },
  {
   "cell_type": "code",
   "execution_count": null,
   "metadata": {},
   "outputs": [],
   "source": [
    "%load_ext autoreload\n",
    "%autoreload 2"
   ]
  },
  {
   "cell_type": "code",
   "execution_count": 50,
   "metadata": {},
   "outputs": [
    {
     "output_type": "execute_result",
     "data": {
      "text/plain": [
       "FileSystemExperimentLoader(\"../logs\")"
      ]
     },
     "metadata": {},
     "execution_count": 50
    }
   ],
   "source": [
    "import sys\n",
    "sys.path.append('.')\n",
    "from datetime import datetime\n",
    "import numpy as np\n",
    "import matplotlib.pyplot as plt\n",
    "\n",
    "import incense\n",
    "from incense import ExperimentLoader\n",
    "from pathlib import Path\n",
    "from incense.experiment_loader import FileSystemExperimentLoader\n",
    "\n",
    "\n",
    "basedir = Path(\"../logs/\")\n",
    "loader = FileSystemExperimentLoader(basedir)\n",
    "loader\n"
   ]
  },
  {
   "cell_type": "markdown",
   "metadata": {},
   "source": [
    "## Finding experiments\n",
    "\n",
    "To use `incense` we first have to instantiate an experiment loader that will enable us to query the database for specific runs."
   ]
  },
  {
   "cell_type": "markdown",
   "metadata": {},
   "source": [
    "It is easiest to retrieve experiments by their id."
   ]
  },
  {
   "cell_type": "code",
   "execution_count": 69,
   "metadata": {},
   "outputs": [
    {
     "output_type": "stream",
     "name": "stdout",
     "text": [
      "['__class__', '__delattr__', '__dict__', '__dir__', '__doc__', '__eq__', '__format__', '__ge__', '__getattr__', '__getattribute__', '__gt__', '__hash__', '__init__', '__init_subclass__', '__le__', '__lt__', '__module__', '__ne__', '__new__', '__reduce__', '__reduce_ex__', '__repr__', '__setattr__', '__sizeof__', '__str__', '__subclasshook__', '__weakref__', '_data', '_load_artifacts', '_load_metrics', 'artifacts', 'from_run_dir', 'id', 'metrics']\n"
     ]
    },
    {
     "output_type": "execute_result",
     "data": {
      "text/plain": [
       "FileSystemExperiment(id=399, name=100a_50d_l0)"
      ]
     },
     "metadata": {},
     "execution_count": 69
    }
   ],
   "source": [
    "exp = loader.find_by_id(399)\n",
    "print(dir(exp))\n",
    "exp"
   ]
  },
  {
   "cell_type": "markdown",
   "metadata": {},
   "source": [
    "It is also possible to find a set of experiments based on their configuration values. Multiple experiments are returned as a `QuerySet` that just acts as a list, but exposes some custom methods."
   ]
  },
  {
   "cell_type": "code",
   "execution_count": 70,
   "metadata": {},
   "outputs": [
    {
     "output_type": "execute_result",
     "data": {
      "text/plain": [
       "'COMPLETED'"
      ]
     },
     "metadata": {},
     "execution_count": 70
    }
   ],
   "source": [
    "exp.status"
   ]
  },
  {
   "cell_type": "code",
   "execution_count": 71,
   "metadata": {},
   "outputs": [
    {
     "output_type": "execute_result",
     "data": {
      "text/plain": [
       "'2020-12-01T21:35:09.750739'"
      ]
     },
     "metadata": {},
     "execution_count": 71
    }
   ],
   "source": [
    "exp.start_time"
   ]
  },
  {
   "cell_type": "code",
   "execution_count": 72,
   "metadata": {},
   "outputs": [
    {
     "output_type": "stream",
     "name": "stdout",
     "text": [
      "pmap({'value': 0.71, 'py/object': 'numpy.float64', 'dtype': 'float64'})\n"
     ]
    }
   ],
   "source": [
    "print(exp.result)"
   ]
  },
  {
   "cell_type": "code",
   "execution_count": 73,
   "metadata": {},
   "outputs": [
    {
     "output_type": "stream",
     "name": "stdout",
     "text": [
      "INFO - 100a_50d_l0 - Running command 'kernelsvc'\nINFO - 100a_50d_l0 - Started run with ID \"399\"\n0    S↓NP S↓VP S↑ROOT NP↑S VP↓VBD VP↓SBAR VP↑S VBD↑...\n1    S↓VP S↓. S↓_SP S↑ROOT VP↓VBP VP↓NP VP↓SBAR VP↑...\n2    S↓S S↓CC S↓S S↑ROOT S↓NP S↓VP S↑S NP↓NP NP↓PP ...\n3    SBARQ↓`` SBARQ↓MD SBARQ↓NP SBARQ↓VP SBARQ↓NFP ...\n4    S↓NP S↓VP S↓. S↓_SP S↑ROOT NP↑S VP↓VBP VP↓NP V...\nName: path_pos_bigrams, dtype: object\n(4999, 6)\n(3499, 3265)\nINFO - kernelsvc - kernelsvc__min_df_0.1_path_pos_bigrams\nINFO - kernelsvc - acc=0.71, f1=0.7085348035879926\nINFO - kernelsvc - {'max_iter': 1000, 'verbose': 0, 'kernel': 'poly'}\nINFO - 100a_50d_l0 - Result: 0.71\nINFO - 100a_50d_l0 - Completed after 0:03:08\n\n"
     ]
    }
   ],
   "source": [
    "print(exp.captured_out)"
   ]
  },
  {
   "cell_type": "code",
   "execution_count": 74,
   "metadata": {},
   "outputs": [
    {
     "output_type": "execute_result",
     "data": {
      "text/plain": [
       "pmap({'dataset': pmap({'feature_column': 'path_pos_bigrams', 'name': '100 author 50 docs each pos_tags', 'min_doc_freq': 0.1, 'filename': './data/100A50D__doc+pos.pkl'}), 'seed': 854724710, 'name': 'kernelsvc__min_df_0.1_path_pos_bigrams'})"
      ]
     },
     "metadata": {},
     "execution_count": 74
    }
   ],
   "source": [
    "exp.config"
   ]
  },
  {
   "cell_type": "markdown",
   "metadata": {},
   "source": [
    "This works down to deeper levels of the data model."
   ]
  },
  {
   "cell_type": "code",
   "execution_count": 85,
   "metadata": {},
   "outputs": [
    {
     "output_type": "execute_result",
     "data": {
      "text/plain": [
       "'kernelsvc__min_df_0.1_path_pos_bigrams'"
      ]
     },
     "metadata": {},
     "execution_count": 85
    }
   ],
   "source": [
    "exp.config.name"
   ]
  },
  {
   "cell_type": "markdown",
   "metadata": {},
   "source": [
    "Alternatively, the classic dictionary access notation can still be used. This is useful, if the the keys of the data model are not valid python identifiers."
   ]
  },
  {
   "cell_type": "markdown",
   "metadata": {},
   "source": [
    "## Artifacts"
   ]
  },
  {
   "cell_type": "markdown",
   "metadata": {},
   "source": [
    "`.artifacts` is a dict that maps from artifact names to artifact objects. The artifacts can rendered according to their type by calling `.render()` on them. They can be saved locally by calling `.save()` on them. The artifact dict might be empty if the run was just restarted and did not yet finish an epoch."
   ]
  },
  {
   "cell_type": "code",
   "execution_count": 86,
   "metadata": {},
   "outputs": [
    {
     "output_type": "execute_result",
     "data": {
      "text/plain": [
       "{}"
      ]
     },
     "metadata": {},
     "execution_count": 86
    }
   ],
   "source": [
    "exp.artifacts"
   ]
  },
  {
   "cell_type": "markdown",
   "metadata": {},
   "source": [
    "PNG artifacts will be shown as images by default."
   ]
  },
  {
   "cell_type": "code",
   "execution_count": null,
   "metadata": {},
   "outputs": [],
   "source": [
    "exp.artifacts['confusion_matrix'].render()"
   ]
  },
  {
   "cell_type": "code",
   "execution_count": null,
   "metadata": {},
   "outputs": [],
   "source": [
    "exp.artifacts['confusion_matrix'].save()"
   ]
  },
  {
   "cell_type": "markdown",
   "metadata": {},
   "source": [
    "While CSV artifacts will be converted into `pandas.DataFrames`."
   ]
  },
  {
   "cell_type": "code",
   "execution_count": null,
   "metadata": {},
   "outputs": [],
   "source": [
    "exp.artifacts['predictions'].render().head()"
   ]
  },
  {
   "cell_type": "code",
   "execution_count": null,
   "metadata": {},
   "outputs": [],
   "source": [
    "exp.artifacts['predictions'].render().head()"
   ]
  },
  {
   "cell_type": "markdown",
   "metadata": {},
   "source": [
    "MP4 artifacts will be downloaded and embedded as an HTML element in the notebook. This can be useful for visualizing dynamics over time."
   ]
  },
  {
   "cell_type": "code",
   "execution_count": null,
   "metadata": {},
   "outputs": [],
   "source": [
    "exp.artifacts['accuracy_movie'].render()"
   ]
  },
  {
   "cell_type": "markdown",
   "metadata": {},
   "source": [
    "Finally pickle artifacts will the restored to the Python object they originally represented. However, since `pickle` does not have a proper detectable content-type they will be only recognized as `Artifacts` without any more specific type. We can use the `as_type` method to interpret an artifact as an artifact of a more specific or just different type. In our example we just saved the data frame we already have as CSV as a pickle file as well."
   ]
  },
  {
   "cell_type": "code",
   "execution_count": null,
   "metadata": {},
   "outputs": [],
   "source": [
    "pickle_artifact = exp.artifacts['predictions_df'].as_type(incense.artifact.PickleArtifact)\n",
    "pickle_artifact.render().head()"
   ]
  },
  {
   "cell_type": "markdown",
   "metadata": {},
   "source": [
    "## Metrics"
   ]
  },
  {
   "cell_type": "markdown",
   "metadata": {},
   "source": [
    "If a path points to a value that is non-scalar, e.g. a metric, you can pass a dict of the path mapping to a function that reduces the the values to a single value."
   ]
  },
  {
   "cell_type": "code",
   "execution_count": 87,
   "metadata": {},
   "outputs": [
    {
     "output_type": "execute_result",
     "data": {
      "text/plain": [
       "pmap({'dataset': pmap({'feature_column': 'path_pos_bigrams', 'name': '100 author 50 docs each pos_tags', 'min_doc_freq': 0.1, 'filename': './data/100A50D__doc+pos.pkl'}), 'seed': 854724710, 'name': 'kernelsvc__min_df_0.1_path_pos_bigrams'})"
      ]
     },
     "metadata": {},
     "execution_count": 87
    }
   ],
   "source": [
    "exp.config"
   ]
  },
  {
   "cell_type": "code",
   "execution_count": 88,
   "metadata": {},
   "outputs": [
    {
     "output_type": "execute_result",
     "data": {
      "text/plain": [
       "step\n",
       "0    0.71\n",
       "Name: test.accuracy, dtype: float64"
      ]
     },
     "metadata": {},
     "execution_count": 88
    }
   ],
   "source": [
    "exp.metrics['test.accuracy']"
   ]
  }
 ],
 "metadata": {
  "kernelspec": {
   "display_name": "Python 3",
   "language": "python",
   "name": "python3"
  },
  "language_info": {
   "codemirror_mode": {
    "name": "ipython",
    "version": 3
   },
   "file_extension": ".py",
   "mimetype": "text/x-python",
   "name": "python",
   "nbconvert_exporter": "python",
   "pygments_lexer": "ipython3",
   "version": "3.8.5-final"
  }
 },
 "nbformat": 4,
 "nbformat_minor": 4
}