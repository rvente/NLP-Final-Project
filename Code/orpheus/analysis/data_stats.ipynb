{
 "cells": [
  {
   "cell_type": "markdown",
   "metadata": {},
   "source": [
    "# Analysis \n",
    "\n",
    "THis was created by installing the development version of incense git+https://github.com/JarnoRFB/incense.git at 4236128faae866b6bb7a5a32f0914812895b024e"
   ]
  },
  {
   "cell_type": "code",
   "execution_count": null,
   "metadata": {},
   "outputs": [],
   "source": [
    "%load_ext autoreload\n",
    "%autoreload 2"
   ]
  },
  {
   "cell_type": "code",
   "execution_count": 1,
   "metadata": {},
   "outputs": [
    {
     "output_type": "execute_result",
     "data": {
      "text/plain": [
       "FileSystemExperimentLoader(\"../logs\")"
      ]
     },
     "metadata": {},
     "execution_count": 1
    }
   ],
   "source": [
    "import sys\n",
    "sys.path.append('.')\n",
    "from datetime import datetime\n",
    "import numpy as np\n",
    "import matplotlib.pyplot as plt\n",
    "import pandas as pd\n",
    "import incense\n",
    "from incense import ExperimentLoader\n",
    "from pathlib import Path\n",
    "from incense.experiment_loader import FileSystemExperimentLoader\n",
    "\n",
    "\n",
    "basedir = Path(\"../logs/\")\n",
    "loader = FileSystemExperimentLoader(basedir)\n",
    "loader\n"
   ]
  },
  {
   "cell_type": "code",
   "execution_count": 6,
   "metadata": {},
   "outputs": [],
   "source": [
    "DATA_100A50D = pd.read_pickle('../data/100A50D__doc+pos.pkl')"
   ]
  },
  {
   "cell_type": "code",
   "execution_count": 3,
   "metadata": {},
   "outputs": [
    {
     "output_type": "execute_result",
     "data": {
      "text/plain": [
       "                       user_id  \\\n",
       "count                     4999   \n",
       "unique                     100   \n",
       "top     SCo1UBoeN3bhRMkSYuiX1A   \n",
       "freq                        50   \n",
       "\n",
       "                                          review_contents  \\\n",
       "count                                                4999   \n",
       "unique                                               4986   \n",
       "top     THIS IS A DISGUSTING COMPANY. DO NOT USE! They...   \n",
       "freq                                                    3   \n",
       "\n",
       "                                        path_pos_trigrams  \\\n",
       "count                                                4999   \n",
       "unique                                               4986   \n",
       "top     ROOT NP↑ROOT VP↑ROOT VP↓ VP↓NP↓DT NP↓NNP NP↓NN...   \n",
       "freq                                                    3   \n",
       "\n",
       "                                                 pos_tags  \\\n",
       "count                                                4999   \n",
       "unique                                               4986   \n",
       "top     S NP VP VBZ NP DT NNP NN . S VP VB RB VP . S S...   \n",
       "freq                                                    3   \n",
       "\n",
       "                                       nested_pos_bigrams  \\\n",
       "count                                                4999   \n",
       "unique                                               4986   \n",
       "top     S↓NP S↓VP S↓.  VP↓VBZ VP↓NP  NP↓DT NP↓NNP NP↓N...   \n",
       "freq                                                    3   \n",
       "\n",
       "                                         path_pos_bigrams  \n",
       "count                                                4999  \n",
       "unique                                               4986  \n",
       "top     S↓NP S↓VP S↓. S↑ROOT NP↑S VP↓VBZ VP↓NP VP↑S VB...  \n",
       "freq                                                    3  "
      ],
      "text/html": "<div>\n<style scoped>\n    .dataframe tbody tr th:only-of-type {\n        vertical-align: middle;\n    }\n\n    .dataframe tbody tr th {\n        vertical-align: top;\n    }\n\n    .dataframe thead th {\n        text-align: right;\n    }\n</style>\n<table border=\"1\" class=\"dataframe\">\n  <thead>\n    <tr style=\"text-align: right;\">\n      <th></th>\n      <th>user_id</th>\n      <th>review_contents</th>\n      <th>path_pos_trigrams</th>\n      <th>pos_tags</th>\n      <th>nested_pos_bigrams</th>\n      <th>path_pos_bigrams</th>\n    </tr>\n  </thead>\n  <tbody>\n    <tr>\n      <th>count</th>\n      <td>4999</td>\n      <td>4999</td>\n      <td>4999</td>\n      <td>4999</td>\n      <td>4999</td>\n      <td>4999</td>\n    </tr>\n    <tr>\n      <th>unique</th>\n      <td>100</td>\n      <td>4986</td>\n      <td>4986</td>\n      <td>4986</td>\n      <td>4986</td>\n      <td>4986</td>\n    </tr>\n    <tr>\n      <th>top</th>\n      <td>SCo1UBoeN3bhRMkSYuiX1A</td>\n      <td>THIS IS A DISGUSTING COMPANY. DO NOT USE! They...</td>\n      <td>ROOT NP↑ROOT VP↑ROOT VP↓ VP↓NP↓DT NP↓NNP NP↓NN...</td>\n      <td>S NP VP VBZ NP DT NNP NN . S VP VB RB VP . S S...</td>\n      <td>S↓NP S↓VP S↓.  VP↓VBZ VP↓NP  NP↓DT NP↓NNP NP↓N...</td>\n      <td>S↓NP S↓VP S↓. S↑ROOT NP↑S VP↓VBZ VP↓NP VP↑S VB...</td>\n    </tr>\n    <tr>\n      <th>freq</th>\n      <td>50</td>\n      <td>3</td>\n      <td>3</td>\n      <td>3</td>\n      <td>3</td>\n      <td>3</td>\n    </tr>\n  </tbody>\n</table>\n</div>"
     },
     "metadata": {},
     "execution_count": 3
    }
   ],
   "source": [
    "DATA_100A50D.describe()"
   ]
  },
  {
   "cell_type": "code",
   "execution_count": 9,
   "metadata": {},
   "outputs": [],
   "source": [
    "STATS_100A50D = pd.DataFrame()\n",
    "for col in set(DATA_100A50D) - {'user_id'}:\n",
    "    STATS_100A50D[col] = DATA_100A50D[col].apply(lambda x: len(x.split()))"
   ]
  },
  {
   "cell_type": "code",
   "execution_count": 17,
   "metadata": {},
   "outputs": [
    {
     "output_type": "execute_result",
     "data": {
      "text/plain": [
       "      review_contents path_pos_trigrams path_pos_bigrams nested_pos_bigrams  \\\n",
       "count            4999              4999             4999               4999   \n",
       "mean          395.282           2602.69          1468.94            718.623   \n",
       "std           194.077           1320.15           724.99            355.296   \n",
       "min                 2                 4                7                  3   \n",
       "25%               257            1675.5              955                467   \n",
       "50%               355              2317             1322                646   \n",
       "75%               496            3262.5             1845                903   \n",
       "max              1007              7801             3715               1823   \n",
       "\n",
       "      pos_tags  \n",
       "count     4999  \n",
       "mean   750.316  \n",
       "std    369.736  \n",
       "min          4  \n",
       "25%        489  \n",
       "50%        676  \n",
       "75%        944  \n",
       "max       1895  "
      ],
      "text/html": "<div>\n<style scoped>\n    .dataframe tbody tr th:only-of-type {\n        vertical-align: middle;\n    }\n\n    .dataframe tbody tr th {\n        vertical-align: top;\n    }\n\n    .dataframe thead th {\n        text-align: right;\n    }\n</style>\n<table border=\"1\" class=\"dataframe\">\n  <thead>\n    <tr style=\"text-align: right;\">\n      <th></th>\n      <th>review_contents</th>\n      <th>path_pos_trigrams</th>\n      <th>path_pos_bigrams</th>\n      <th>nested_pos_bigrams</th>\n      <th>pos_tags</th>\n    </tr>\n  </thead>\n  <tbody>\n    <tr>\n      <th>count</th>\n      <td>4999</td>\n      <td>4999</td>\n      <td>4999</td>\n      <td>4999</td>\n      <td>4999</td>\n    </tr>\n    <tr>\n      <th>mean</th>\n      <td>395.282</td>\n      <td>2602.69</td>\n      <td>1468.94</td>\n      <td>718.623</td>\n      <td>750.316</td>\n    </tr>\n    <tr>\n      <th>std</th>\n      <td>194.077</td>\n      <td>1320.15</td>\n      <td>724.99</td>\n      <td>355.296</td>\n      <td>369.736</td>\n    </tr>\n    <tr>\n      <th>min</th>\n      <td>2</td>\n      <td>4</td>\n      <td>7</td>\n      <td>3</td>\n      <td>4</td>\n    </tr>\n    <tr>\n      <th>25%</th>\n      <td>257</td>\n      <td>1675.5</td>\n      <td>955</td>\n      <td>467</td>\n      <td>489</td>\n    </tr>\n    <tr>\n      <th>50%</th>\n      <td>355</td>\n      <td>2317</td>\n      <td>1322</td>\n      <td>646</td>\n      <td>676</td>\n    </tr>\n    <tr>\n      <th>75%</th>\n      <td>496</td>\n      <td>3262.5</td>\n      <td>1845</td>\n      <td>903</td>\n      <td>944</td>\n    </tr>\n    <tr>\n      <th>max</th>\n      <td>1007</td>\n      <td>7801</td>\n      <td>3715</td>\n      <td>1823</td>\n      <td>1895</td>\n    </tr>\n  </tbody>\n</table>\n</div>"
     },
     "metadata": {},
     "execution_count": 17
    }
   ],
   "source": [
    "DESCRIP_100A50D = STATS_100A50D.describe().apply(lambda s: s.apply(lambda x: format(x, 'g')))\n",
    "DESCRIP_100A50D"
   ]
  },
  {
   "cell_type": "code",
   "execution_count": 19,
   "metadata": {},
   "outputs": [
    {
     "output_type": "stream",
     "name": "stdout",
     "text": [
      "\\begin{tabular}{llllll}\n\\toprule\n{} & review\\_contents & path\\_pos\\_trigrams & path\\_pos\\_bigrams & nested\\_pos\\_bigrams & pos\\_tags \\\\\n\\midrule\ncount &            4999 &              4999 &             4999 &               4999 &     4999 \\\\\nmean  &         395.282 &           2602.69 &          1468.94 &            718.623 &  750.316 \\\\\nstd   &         194.077 &           1320.15 &           724.99 &            355.296 &  369.736 \\\\\nmin   &               2 &                 4 &                7 &                  3 &        4 \\\\\n25\\%   &             257 &            1675.5 &              955 &                467 &      489 \\\\\n50\\%   &             355 &              2317 &             1322 &                646 &      676 \\\\\n75\\%   &             496 &            3262.5 &             1845 &                903 &      944 \\\\\nmax   &            1007 &              7801 &             3715 &               1823 &     1895 \\\\\n\\bottomrule\n\\end{tabular}\n\n"
     ]
    }
   ],
   "source": [
    "print(DESCRIP_100A50D.to_latex())"
   ]
  },
  {
   "cell_type": "code",
   "execution_count": null,
   "metadata": {},
   "outputs": [],
   "source": []
  }
 ],
 "metadata": {
  "kernelspec": {
   "display_name": "Python 3.8.2 64-bit",
   "language": "python",
   "name": "python38264bit94fc5f5a5f1c4911908bbdb2db56aaaf"
  },
  "language_info": {
   "codemirror_mode": {
    "name": "ipython",
    "version": 3
   },
   "file_extension": ".py",
   "mimetype": "text/x-python",
   "name": "python",
   "nbconvert_exporter": "python",
   "pygments_lexer": "ipython3",
   "version": "3.8.5-final"
  }
 },
 "nbformat": 4,
 "nbformat_minor": 4
}