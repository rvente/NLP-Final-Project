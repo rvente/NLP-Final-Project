{
 "cells": [
  {
   "cell_type": "markdown",
   "metadata": {},
   "source": [
    "# Generate Charts\n",
    "\n",
    "Take a pickle file and generate charts from it.\n",
    "\n",
    "THis was created by installing the development version of incense git+https://github.com/JarnoRFB/incense.git at 4236128faae866b6bb7a5a32f0914812895b024e"
   ]
  },
  {
   "cell_type": "code",
   "execution_count": 2,
   "metadata": {},
   "outputs": [],
   "source": [
    "%load_ext autoreload\n",
    "%autoreload 2"
   ]
  },
  {
   "cell_type": "code",
   "execution_count": 3,
   "metadata": {},
   "outputs": [],
   "source": [
    "from datetime import datetime\n",
    "import numpy as np\n",
    "import pandas as pd\n",
    "import matplotlib.pyplot as plt\n",
    "import matplotlib\n",
    "from pathlib import Path\n",
    "matplotlib.use(\"pgf\")\n",
    "matplotlib.rcParams.update({\n",
    "    \"pgf.texsystem\": \"pdflatex\",\n",
    "    'font.family': 'serif',\n",
    "    'text.usetex': True,\n",
    "    'pgf.rcfonts': False,\n",
    "})\n"
   ]
  },
  {
   "cell_type": "code",
   "execution_count": 4,
   "metadata": {},
   "outputs": [],
   "source": [
    "RESULTS_DIR = Path('../results')"
   ]
  },
  {
   "cell_type": "code",
   "execution_count": 10,
   "metadata": {},
   "outputs": [],
   "source": [
    "def read_pkl(fname): return pd.read_pickle(RESULTS_DIR/fname).rename(columns={\"review_contents\": \"review contents\", \"pos_tags\": \"POS tags L0\", \"path_pos_bigrams\": \"POS paths L1\", \"nested_pos_bigrams\" : 'POS nested pairs'})\n",
    "def plot(fname, title=\"Title\", xlabel=\"xlabel\", ylabel=\"ylabel\"):\n",
    "    graph = read_pkl(fname).plot(title=title)\n",
    "    graph.set_xlabel(xlabel)\n",
    "    graph.set_ylabel(ylabel)\n",
    "    return graph.get_figure()\n"
   ]
  },
  {
   "cell_type": "code",
   "execution_count": 6,
   "metadata": {},
   "outputs": [
    {
     "output_type": "execute_result",
     "data": {
      "text/plain": [
       "<AxesSubplot:title={'center':'Linear SVC $F_1$ score'}, xlabel='TfIDFVectorizer Minimum Document Frequency', ylabel='Test $F_1$'>"
      ]
     },
     "metadata": {},
     "execution_count": 6
    }
   ],
   "source": [
    "plot('svc_df_acc.pkl', title=\"Linear SVC accuracy\", xlabel=\"TfIDFVectorizer Minimum Document Frequency\", ylabel=\"Test Accuracy\")\n",
    "\n",
    "plot('svc_df_f1.pkl', title=\"Linear SVC $F_1$ score\", xlabel=\"TfIDFVectorizer Minimum Document Frequency\", ylabel=\"Test $F_1$\")"
   ]
  },
  {
   "cell_type": "code",
   "execution_count": 7,
   "metadata": {},
   "outputs": [
    {
     "output_type": "execute_result",
     "data": {
      "text/plain": [
       "<AxesSubplot:title={'center':'Naive Bayes $F_1$ score'}, xlabel='TfIDFVectorizer Minimum Document Frequency', ylabel='Test $F_1$'>"
      ]
     },
     "metadata": {},
     "execution_count": 7
    }
   ],
   "source": [
    "plot('nb_df_acc.pkl', title=\"Naive Bayes accuracy\", xlabel=\"TfIDFVectorizer Minimum Document Frequency\", ylabel=\"Test Accuracy\")\n",
    "plot('nb_df_f1.pkl', title=\"Naive Bayes $F_1$ score\", xlabel=\"TfIDFVectorizer Minimum Document Frequency\", ylabel=\"Test $F_1$\")"
   ]
  },
  {
   "cell_type": "code",
   "execution_count": 14,
   "metadata": {},
   "outputs": [],
   "source": [
    "# save to files\n",
    "svc_acc = plot('svc_df_acc.pkl', title=\"Linear SVC accuracy\", xlabel=\"TfIDFVectorizer Minimum Document Frequency\", ylabel=\"Test Accuracy\")\n",
    "svc_acc.savefig('../figures/svc_acc_x_min_df.pdf')\n",
    "svc_f1 = plot('svc_df_f1.pkl', title=\"Linear SVC $F_1$ score\", xlabel=\"TfIDFVectorizer Minimum Document Frequency\", ylabel=\"Test $F_1$\")\n",
    "svc_acc.savefig('../figures/svc_f1_x_min_df.pdf')\n"
   ]
  },
  {
   "cell_type": "code",
   "execution_count": 15,
   "metadata": {},
   "outputs": [],
   "source": [
    "nb_acc = plot('nb_df_acc.pkl', title=\"Naive Bayes accuracy\", xlabel=\"TfIDFVectorizer Minimum Document Frequency\", ylabel=\"Test Accuracy\")\n",
    "nb_acc.savefig('../figures/nb_acc_x_min_df.pdf')\n",
    "nb_f1 = plot('nb_df_f1.pkl', title=\"Naive Bayes $F_1$ score\", xlabel=\"TfIDFVectorizer Minimum Document Frequency\", ylabel=\"Test $F_1$\")\n",
    "nb_acc.savefig('../figures/nb_f1_x_min_df.pdf')\n"
   ]
  }
 ],
 "metadata": {
  "kernelspec": {
   "display_name": "Python 3",
   "language": "python",
   "name": "python3"
  },
  "language_info": {
   "codemirror_mode": {
    "name": "ipython",
    "version": 3
   },
   "file_extension": ".py",
   "mimetype": "text/x-python",
   "name": "python",
   "nbconvert_exporter": "python",
   "pygments_lexer": "ipython3",
   "version": "3.7.9-final"
  }
 },
 "nbformat": 4,
 "nbformat_minor": 4
}